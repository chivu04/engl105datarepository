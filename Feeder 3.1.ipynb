{
 "cells": [
  {
   "cell_type": "markdown",
   "id": "1d196e1a-fda9-466f-8baf-b2c5fd2c8b44",
   "metadata": {
    "tags": []
   },
   "source": [
    "## Python Notebook\n",
    "This notebook will introduce you to the steps to create a Python notebook and filter data from a publicly available data set by indexing and filtering.  "
   ]
  },
  {
   "cell_type": "markdown",
   "id": "4041fe3c-aa59-4c24-8f1e-ffdb6afe0c96",
   "metadata": {},
   "source": [
    "## Overview\n",
    "This notebook contains four main sections: getting started/system requirements, creating a notebook, filtering data, and exporting data.  "
   ]
  },
  {
   "cell_type": "markdown",
   "id": "7213bd16-cc92-484f-96df-d4df105ecdff",
   "metadata": {
    "tags": []
   },
   "source": [
    "### Getting Started\n",
    "Create a folder on your computer where you store all your files, including the data set and the python notebook, to create a working directory.\n",
    "\n",
    "### System Requirements\n",
    "Download Anaconda, and on the home page, launch Jupyter Lab.  \n",
    "\n",
    "### Creating a Notebook\n",
    "Open the folder on Jupyter and click + button to create a notebook in your directory. \n",
    "\n",
    "Import Pandas Package and the data as a CSV file to the directory. \n",
    "\n",
    "### Filtering Data \n",
    "The purpose of this section is to make use of the publicly available data set. For this County Health Data Set, I use Python to filter data to compare percentage of people who have obesity in regions West and South. \n",
    "\n",
    "#### Setting up Data \n",
    "To start filtering the data, you will need to define pandas as pd. "
   ]
  },
  {
   "cell_type": "code",
   "execution_count": 89,
   "id": "e8e246ce-c731-4fa0-9caa-73573837deaa",
   "metadata": {},
   "outputs": [],
   "source": [
    "import pandas as pd"
   ]
  },
  {
   "cell_type": "markdown",
   "id": "6431bf84-a255-4df6-93a2-42d3490cbffb",
   "metadata": {},
   "source": [
    "You will define the object df by using the `pd.read_csv()` function and inserting the file name in the parentheses."
   ]
  },
  {
   "cell_type": "code",
   "execution_count": null,
   "id": "99a57082-eb52-4ed7-919d-e9c4efa51ead",
   "metadata": {},
   "outputs": [],
   "source": [
    "df=pd.read_csv(\"CountyHealthData_2014-2015.csv\")  "
   ]
  },
  {
   "cell_type": "markdown",
   "id": "c9702bc0-da9b-4b9f-931a-3c87da8994c5",
   "metadata": {},
   "source": [
    "#### Filtering and Indexing"
   ]
  },
  {
   "cell_type": "code",
   "execution_count": null,
   "id": "7ef9219d-c223-457f-966e-4d3063f52fec",
   "metadata": {},
   "outputs": [],
   "source": [
    "You will use the df.loc function to iterate through all the values of the pandas dataframe.\n",
    "\n",
    "Then, filter it by making sure that each region is west. "
   ]
  },
  {
   "cell_type": "code",
   "execution_count": 101,
   "id": "e33bea16-c81f-4840-91e0-4f9494a95892",
   "metadata": {},
   "outputs": [
    {
     "data": {
      "text/html": [
       "<div>\n",
       "<style scoped>\n",
       "    .dataframe tbody tr th:only-of-type {\n",
       "        vertical-align: middle;\n",
       "    }\n",
       "\n",
       "    .dataframe tbody tr th {\n",
       "        vertical-align: top;\n",
       "    }\n",
       "\n",
       "    .dataframe thead th {\n",
       "        text-align: right;\n",
       "    }\n",
       "</style>\n",
       "<table border=\"1\" class=\"dataframe\">\n",
       "  <thead>\n",
       "    <tr style=\"text-align: right;\">\n",
       "      <th></th>\n",
       "      <th>Region</th>\n",
       "      <th>Adult obesity</th>\n",
       "    </tr>\n",
       "  </thead>\n",
       "  <tbody>\n",
       "    <tr>\n",
       "      <th>0</th>\n",
       "      <td>West</td>\n",
       "      <td>0.300</td>\n",
       "    </tr>\n",
       "    <tr>\n",
       "      <th>1</th>\n",
       "      <td>West</td>\n",
       "      <td>0.329</td>\n",
       "    </tr>\n",
       "    <tr>\n",
       "      <th>2</th>\n",
       "      <td>West</td>\n",
       "      <td>0.257</td>\n",
       "    </tr>\n",
       "    <tr>\n",
       "      <th>3</th>\n",
       "      <td>West</td>\n",
       "      <td>0.268</td>\n",
       "    </tr>\n",
       "    <tr>\n",
       "      <th>4</th>\n",
       "      <td>West</td>\n",
       "      <td>0.315</td>\n",
       "    </tr>\n",
       "    <tr>\n",
       "      <th>...</th>\n",
       "      <td>...</td>\n",
       "      <td>...</td>\n",
       "    </tr>\n",
       "    <tr>\n",
       "      <th>6104</th>\n",
       "      <td>West</td>\n",
       "      <td>0.293</td>\n",
       "    </tr>\n",
       "    <tr>\n",
       "      <th>6105</th>\n",
       "      <td>West</td>\n",
       "      <td>0.241</td>\n",
       "    </tr>\n",
       "    <tr>\n",
       "      <th>6106</th>\n",
       "      <td>West</td>\n",
       "      <td>0.242</td>\n",
       "    </tr>\n",
       "    <tr>\n",
       "      <th>6107</th>\n",
       "      <td>West</td>\n",
       "      <td>0.313</td>\n",
       "    </tr>\n",
       "    <tr>\n",
       "      <th>6108</th>\n",
       "      <td>West</td>\n",
       "      <td>0.288</td>\n",
       "    </tr>\n",
       "  </tbody>\n",
       "</table>\n",
       "<p>834 rows × 2 columns</p>\n",
       "</div>"
      ],
      "text/plain": [
       "     Region  Adult obesity\n",
       "0      West          0.300\n",
       "1      West          0.329\n",
       "2      West          0.257\n",
       "3      West          0.268\n",
       "4      West          0.315\n",
       "...     ...            ...\n",
       "6104   West          0.293\n",
       "6105   West          0.241\n",
       "6106   West          0.242\n",
       "6107   West          0.313\n",
       "6108   West          0.288\n",
       "\n",
       "[834 rows x 2 columns]"
      ]
     },
     "execution_count": 101,
     "metadata": {},
     "output_type": "execute_result"
    }
   ],
   "source": [
    "data1 = df.loc[df['Region'] == \"West\", [\"Region\",\"Adult obesity\"]]\n",
    "data1"
   ]
  },
  {
   "cell_type": "code",
   "execution_count": 106,
   "id": "76f41af2-a8b1-488d-821f-abbf9b7c3066",
   "metadata": {},
   "outputs": [
    {
     "ename": "SyntaxError",
     "evalue": "invalid syntax (4093439095.py, line 1)",
     "output_type": "error",
     "traceback": [
      "\u001b[0;36m  File \u001b[0;32m\"/var/folders/sg/fsgmtt716d7472y9sf2kkfv00000gn/T/ipykernel_84717/4093439095.py\"\u001b[0;36m, line \u001b[0;32m1\u001b[0m\n\u001b[0;31m    You will now use the df.loc function to iterate through all the values of the pandas dataframe.\u001b[0m\n\u001b[0m        ^\u001b[0m\n\u001b[0;31mSyntaxError\u001b[0m\u001b[0;31m:\u001b[0m invalid syntax\n"
     ]
    }
   ],
   "source": [
    "You will now use the df.loc function to iterate through all the values of the pandas dataframe.\n",
    "\n",
    "Then, filter it by making sure that each region is south. "
   ]
  },
  {
   "cell_type": "code",
   "execution_count": 100,
   "id": "34de6f3f-eadc-4e42-9fb1-848d6ac91d37",
   "metadata": {},
   "outputs": [
    {
     "data": {
      "text/html": [
       "<div>\n",
       "<style scoped>\n",
       "    .dataframe tbody tr th:only-of-type {\n",
       "        vertical-align: middle;\n",
       "    }\n",
       "\n",
       "    .dataframe tbody tr th {\n",
       "        vertical-align: top;\n",
       "    }\n",
       "\n",
       "    .dataframe thead th {\n",
       "        text-align: right;\n",
       "    }\n",
       "</style>\n",
       "<table border=\"1\" class=\"dataframe\">\n",
       "  <thead>\n",
       "    <tr style=\"text-align: right;\">\n",
       "      <th></th>\n",
       "      <th>Region</th>\n",
       "      <th>Adult obesity</th>\n",
       "    </tr>\n",
       "  </thead>\n",
       "  <tbody>\n",
       "    <tr>\n",
       "      <th>46</th>\n",
       "      <td>South</td>\n",
       "      <td>0.305</td>\n",
       "    </tr>\n",
       "    <tr>\n",
       "      <th>47</th>\n",
       "      <td>South</td>\n",
       "      <td>0.313</td>\n",
       "    </tr>\n",
       "    <tr>\n",
       "      <th>48</th>\n",
       "      <td>South</td>\n",
       "      <td>0.266</td>\n",
       "    </tr>\n",
       "    <tr>\n",
       "      <th>49</th>\n",
       "      <td>South</td>\n",
       "      <td>0.250</td>\n",
       "    </tr>\n",
       "    <tr>\n",
       "      <th>50</th>\n",
       "      <td>South</td>\n",
       "      <td>0.373</td>\n",
       "    </tr>\n",
       "    <tr>\n",
       "      <th>...</th>\n",
       "      <td>...</td>\n",
       "      <td>...</td>\n",
       "    </tr>\n",
       "    <tr>\n",
       "      <th>6058</th>\n",
       "      <td>South</td>\n",
       "      <td>0.383</td>\n",
       "    </tr>\n",
       "    <tr>\n",
       "      <th>6059</th>\n",
       "      <td>South</td>\n",
       "      <td>0.317</td>\n",
       "    </tr>\n",
       "    <tr>\n",
       "      <th>6060</th>\n",
       "      <td>South</td>\n",
       "      <td>0.335</td>\n",
       "    </tr>\n",
       "    <tr>\n",
       "      <th>6061</th>\n",
       "      <td>South</td>\n",
       "      <td>0.370</td>\n",
       "    </tr>\n",
       "    <tr>\n",
       "      <th>6062</th>\n",
       "      <td>South</td>\n",
       "      <td>0.348</td>\n",
       "    </tr>\n",
       "  </tbody>\n",
       "</table>\n",
       "<p>2803 rows × 2 columns</p>\n",
       "</div>"
      ],
      "text/plain": [
       "     Region  Adult obesity\n",
       "46    South          0.305\n",
       "47    South          0.313\n",
       "48    South          0.266\n",
       "49    South          0.250\n",
       "50    South          0.373\n",
       "...     ...            ...\n",
       "6058  South          0.383\n",
       "6059  South          0.317\n",
       "6060  South          0.335\n",
       "6061  South          0.370\n",
       "6062  South          0.348\n",
       "\n",
       "[2803 rows x 2 columns]"
      ]
     },
     "execution_count": 100,
     "metadata": {},
     "output_type": "execute_result"
    }
   ],
   "source": [
    "data2 = df.loc[df['Region'] == \"South\", [\"Region\",\"Adult obesity\"]]\n",
    "data2"
   ]
  },
  {
   "cell_type": "markdown",
   "id": "0df3c588-e492-4f50-9d5d-bfac12726b5a",
   "metadata": {},
   "source": [
    "#### Merging Data"
   ]
  },
  {
   "cell_type": "code",
   "execution_count": 107,
   "id": "16fdc8bf-8db6-4c10-9da0-368dccec97a1",
   "metadata": {},
   "outputs": [
    {
     "ename": "SyntaxError",
     "evalue": "invalid syntax (1891870792.py, line 1)",
     "output_type": "error",
     "traceback": [
      "\u001b[0;36m  File \u001b[0;32m\"/var/folders/sg/fsgmtt716d7472y9sf2kkfv00000gn/T/ipykernel_84717/1891870792.py\"\u001b[0;36m, line \u001b[0;32m1\u001b[0m\n\u001b[0;31m    You will now merge the two filtered datsets into a new dataset and copy it over to a new variable by using .copy\u001b[0m\n\u001b[0m        ^\u001b[0m\n\u001b[0;31mSyntaxError\u001b[0m\u001b[0;31m:\u001b[0m invalid syntax\n"
     ]
    }
   ],
   "source": [
    "You will now merge the two filtered datsets into a new dataset and copy it over to a new variable by using .copy"
   ]
  },
  {
   "cell_type": "code",
   "execution_count": 98,
   "id": "cf5db84b-932b-4cb7-b12c-ea67a3266cac",
   "metadata": {},
   "outputs": [],
   "source": [
    "newdata=pd.merge(data1, data2, how=\"outer\").copy()"
   ]
  },
  {
   "cell_type": "code",
   "execution_count": null,
   "id": "1c70e369-d7a3-4ef9-bd43-484b5ed96642",
   "metadata": {},
   "outputs": [],
   "source": [
    "We finally export the new dataset varable into a csv called new data by using .to_csv() and naming it \"finalDataSet.csv\"."
   ]
  },
  {
   "cell_type": "code",
   "execution_count": 82,
   "id": "0a111cfe-0586-4336-998a-2218f5975714",
   "metadata": {},
   "outputs": [],
   "source": [
    "newdata.to_csv(\"FinalDataSet.csv\", index=False)"
   ]
  },
  {
   "cell_type": "markdown",
   "id": "eb93770c-cf84-41aa-b6e1-c403fa721654",
   "metadata": {},
   "source": [
    "### Exporting Data\n",
    "After finishing filtering the data to create useful subsets for potential further analysis, export them as a .csv file to share on with others on GitHub repositories. "
   ]
  }
 ],
 "metadata": {
  "kernelspec": {
   "display_name": "Python 3 (ipykernel)",
   "language": "python",
   "name": "python3"
  },
  "language_info": {
   "codemirror_mode": {
    "name": "ipython",
    "version": 3
   },
   "file_extension": ".py",
   "mimetype": "text/x-python",
   "name": "python",
   "nbconvert_exporter": "python",
   "pygments_lexer": "ipython3",
   "version": "3.9.13"
  }
 },
 "nbformat": 4,
 "nbformat_minor": 5
}
