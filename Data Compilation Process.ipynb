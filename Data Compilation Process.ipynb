{
 "cells": [
  {
   "cell_type": "markdown",
   "id": "1d196e1a-fda9-466f-8baf-b2c5fd2c8b44",
   "metadata": {
    "tags": []
   },
   "source": [
    "# Adult Obesity in the United States\n",
    "This notebook will guide you through the steps taken to create a Python notebook and filter data from a publicly available data set.\n",
    "\n",
    "The original data set used for this project records health data, such as the number of premature death, teen births, primary care physicians, violent crimes, and injury deaths, in all states, regions, and counties from 2014-2015. The data subset filtered from the original data will show only the percentage of adult obesity by state.\n",
    "\n",
    "The purpose of creating this data subset is to help researchers compare the percentage of adult obesity in all 50 states in 2014."
   ]
  },
  {
   "cell_type": "markdown",
   "id": "4041fe3c-aa59-4c24-8f1e-ffdb6afe0c96",
   "metadata": {},
   "source": [
    "## Overview\n",
    "This notebook contains three main sections: \n",
    "1. Getting Started\n",
    "2. Filtering Data\n",
    "3. Exporting Data  \n",
    "\n",
    "Each of these sections provide step-by-step documentation of the computational methods used to compile the subset keyed into the purpose of the data and your repository."
   ]
  },
  {
   "cell_type": "markdown",
   "id": "fe445bdf-a38a-4baf-8e57-4ce44b3e964d",
   "metadata": {},
   "source": [
    "## Acknowledgments\n",
    "The original data set is from the County Health Data, and the data subset is created using Jupyter Lab from Anaconda.\n",
    "You can download the original data set and Anaconda using the links down below.\n",
    "\n",
    "Data set: https://github.com/chivu04/engl105datarepository/blob/main/Data/CountyHealthData_2014-2015.csv\n",
    "\n",
    "Anaconda: https://unc-libraries-data.github.io/Python/Setup.html#Anaconda-Installation"
   ]
  },
  {
   "cell_type": "markdown",
   "id": "7213bd16-cc92-484f-96df-d4df105ecdff",
   "metadata": {
    "tags": []
   },
   "source": [
    "## 1. Getting Started\n",
    "Create a folder on your computer where you store all your files, including the original data set and the python notebook, to create a working directory.\n",
    "\n",
    "### System Requirements\n",
    "Download Anaconda, and on the home page, launch Jupyter Lab.\n",
    "\n",
    "### Creating a Notebook\n",
    "Open the folder on Jupyter and click + button to create a notebook in your directory. This notebook, a `.pynb` file, is where you will write your codes to filter the data.\n",
    "\n",
    "### Pandas Packages\n",
    "#### Packages\n",
    "Packages are folders containing modules that provide additional tools and functions not present in base Python. Python includes a number of packages. The Anaconda distribution comes with the \"Pandas\" package already installed. \n",
    "\n",
    "Once you have installed the package, load it into your Python session with the import function.\n",
    "\n",
    "#### Pandas\n",
    "Pandas is a Python package providing fast and accessible data structures to make working with data easily. Like spreadsheets in Microsoft Excel, Pandas allows us to store our data in dataframes objects with rows, columns, and headers. Pandas provides a wide range of useful tools for working with data once it has been stored and structured.\n",
    "\n",
    "### Importing Pandas Package\n",
    "Begin by importing the pandas packages you will need using the following command:"
   ]
  },
  {
   "cell_type": "code",
   "execution_count": 139,
   "id": "e8e246ce-c731-4fa0-9caa-73573837deaa",
   "metadata": {},
   "outputs": [],
   "source": [
    "import pandas as pd"
   ]
  },
  {
   "cell_type": "markdown",
   "id": "616e7500-c2bc-45d2-9911-423a3178de50",
   "metadata": {},
   "source": [
    "Load pandas with the usual `import pandas` and an extra `as pd` statement. This allows you to call functions from `pandas` `pd.` instead of `pandas.` for convenience, though `as pd` is not necessary to load the package."
   ]
  },
  {
   "cell_type": "markdown",
   "id": "0b35b73c-3e3f-4a9a-bf4f-bd07473d08d6",
   "metadata": {},
   "source": [
    "### Creating a Dataframe\n",
    "By now, you should have downloaded the original data set, which is the `.csv` file \"CountyHealthData_2014-2015.csv\", and save it to your folder, the same working directory as your `.pynb` notebook file you will use. \n",
    "\n",
    "(The link to this data set can be found in the Acknowledgments section above or in the folder titled \"Data\" in the GitHub repository.)"
   ]
  },
  {
   "cell_type": "markdown",
   "id": "6431bf84-a255-4df6-93a2-42d3490cbffb",
   "metadata": {},
   "source": [
    "To create your dataframe object, you will define the object `df` by using the `pd.read_csv()` function and inserting the file name into the parentheses.\n",
    "\n",
    "`pd.read_csv` reads the tabular data from a Comma Separated Values (csv) file into a dataframe object that you will define as `df`."
   ]
  },
  {
   "cell_type": "code",
   "execution_count": 140,
   "id": "99a57082-eb52-4ed7-919d-e9c4efa51ead",
   "metadata": {},
   "outputs": [],
   "source": [
    "df=pd.read_csv(\"CountyHealthData_2014-2015.csv\")  "
   ]
  },
  {
   "cell_type": "markdown",
   "id": "576a8c89-bbe6-42ff-bf46-2b5c3481c416",
   "metadata": {},
   "source": [
    "## 2. Filtering Data \n",
    "After importing the original data set to your notebook, you will start filtering data using the following steps.\n",
    "\n",
    "The purpose of this section is to make use of the CountyHealthData using Python, specifically comparing the percentage of adults who have obesity in all 50 states."
   ]
  },
  {
   "cell_type": "markdown",
   "id": "c9702bc0-da9b-4b9f-931a-3c87da8994c5",
   "metadata": {},
   "source": [
    "### Filtering and Indexing\n",
    "Your dataframe can be thought as a collection of rows and colums where each row represents an observation and each column has a specific type of information about each observation. \n",
    "\n",
    "For example, in the original CountyHealthData set, the 9th row contains all health data for Dilingham Census Area in Alaska in by the beginning of 2015, and the 9th column contains only the number of premature death but for all states, divisions, regions, and counties in 2014.\n",
    "\n",
    "In Pandas, the columns are stored as what is called 'Series' objects, and the dataframes can be thought of as named collections of series.\n",
    "\n",
    "To extract information from a single column, you will use bracket notation: `df[\"Region\"]`, which is the most robust way to refer to series. While dot notation `df.Region` works and is simpler, it does not work in some cases as a column is not understood as a single value and is not always available. \n",
    "\n",
    "As the purpose of creating this data subset is to find data for adult obesity in all 50 states, you will extract information from columns \"State\", \"FIPS\", and \"Adult obesity\". \n",
    "\n",
    "(FIPS are codes that uniquely identify geographic areas.)\n",
    "\n",
    "You will do so with the following syntax:"
   ]
  },
  {
   "cell_type": "code",
   "execution_count": 134,
   "id": "ab097725-8e9f-4ff3-8885-33269d441989",
   "metadata": {},
   "outputs": [
    {
     "data": {
      "text/html": [
       "<div>\n",
       "<style scoped>\n",
       "    .dataframe tbody tr th:only-of-type {\n",
       "        vertical-align: middle;\n",
       "    }\n",
       "\n",
       "    .dataframe tbody tr th {\n",
       "        vertical-align: top;\n",
       "    }\n",
       "\n",
       "    .dataframe thead th {\n",
       "        text-align: right;\n",
       "    }\n",
       "</style>\n",
       "<table border=\"1\" class=\"dataframe\">\n",
       "  <thead>\n",
       "    <tr style=\"text-align: right;\">\n",
       "      <th></th>\n",
       "      <th>State</th>\n",
       "      <th>FIPS</th>\n",
       "      <th>Adult obesity</th>\n",
       "    </tr>\n",
       "  </thead>\n",
       "  <tbody>\n",
       "    <tr>\n",
       "      <th>0</th>\n",
       "      <td>AK</td>\n",
       "      <td>2016</td>\n",
       "      <td>0.300</td>\n",
       "    </tr>\n",
       "    <tr>\n",
       "      <th>1</th>\n",
       "      <td>AK</td>\n",
       "      <td>2016</td>\n",
       "      <td>0.329</td>\n",
       "    </tr>\n",
       "    <tr>\n",
       "      <th>2</th>\n",
       "      <td>AK</td>\n",
       "      <td>2020</td>\n",
       "      <td>0.257</td>\n",
       "    </tr>\n",
       "    <tr>\n",
       "      <th>3</th>\n",
       "      <td>AK</td>\n",
       "      <td>2020</td>\n",
       "      <td>0.268</td>\n",
       "    </tr>\n",
       "    <tr>\n",
       "      <th>4</th>\n",
       "      <td>AK</td>\n",
       "      <td>2050</td>\n",
       "      <td>0.315</td>\n",
       "    </tr>\n",
       "    <tr>\n",
       "      <th>...</th>\n",
       "      <td>...</td>\n",
       "      <td>...</td>\n",
       "      <td>...</td>\n",
       "    </tr>\n",
       "    <tr>\n",
       "      <th>6104</th>\n",
       "      <td>WY</td>\n",
       "      <td>56041</td>\n",
       "      <td>0.293</td>\n",
       "    </tr>\n",
       "    <tr>\n",
       "      <th>6105</th>\n",
       "      <td>WY</td>\n",
       "      <td>56043</td>\n",
       "      <td>0.241</td>\n",
       "    </tr>\n",
       "    <tr>\n",
       "      <th>6106</th>\n",
       "      <td>WY</td>\n",
       "      <td>56043</td>\n",
       "      <td>0.242</td>\n",
       "    </tr>\n",
       "    <tr>\n",
       "      <th>6107</th>\n",
       "      <td>WY</td>\n",
       "      <td>56045</td>\n",
       "      <td>0.313</td>\n",
       "    </tr>\n",
       "    <tr>\n",
       "      <th>6108</th>\n",
       "      <td>WY</td>\n",
       "      <td>56045</td>\n",
       "      <td>0.288</td>\n",
       "    </tr>\n",
       "  </tbody>\n",
       "</table>\n",
       "<p>6109 rows × 3 columns</p>\n",
       "</div>"
      ],
      "text/plain": [
       "     State   FIPS  Adult obesity\n",
       "0       AK   2016          0.300\n",
       "1       AK   2016          0.329\n",
       "2       AK   2020          0.257\n",
       "3       AK   2020          0.268\n",
       "4       AK   2050          0.315\n",
       "...    ...    ...            ...\n",
       "6104    WY  56041          0.293\n",
       "6105    WY  56043          0.241\n",
       "6106    WY  56043          0.242\n",
       "6107    WY  56045          0.313\n",
       "6108    WY  56045          0.288\n",
       "\n",
       "[6109 rows x 3 columns]"
      ]
     },
     "execution_count": 134,
     "metadata": {},
     "output_type": "execute_result"
    }
   ],
   "source": [
    "df[[\"State\", \"FIPS\", \"Adult obesity\"]]"
   ]
  },
  {
   "cell_type": "markdown",
   "id": "057e5d7a-fefe-4ffa-9038-eb0f9d1c4d6a",
   "metadata": {},
   "source": [
    "Note: make sure to insert the names of the columns in another pair of parentheses `[ ]`. \n",
    "\n",
    "It should NOT look like this: \n",
    "    \n",
    "`df[\"State\", \"FIPS\", \"Adult obesity\"]`"
   ]
  },
  {
   "cell_type": "markdown",
   "id": "eb93770c-cf84-41aa-b6e1-c403fa721654",
   "metadata": {},
   "source": [
    "## 3. Exporting Data\n",
    "After finishing filtering the data to create useful subsets for potential further analysis, export them as a `.csv` file to share with others on your GitHub repositories. \n",
    "\n",
    "To do this, you will need to give your final data set a name and define the dataframe `df` as that final data set. You will also need to add `.copy()`, which will create a copy of the existing list. For this final data subset, I will name it as `finaldataset2`."
   ]
  },
  {
   "cell_type": "code",
   "execution_count": 137,
   "id": "7a766099-329c-4c24-a459-2c046d18da51",
   "metadata": {},
   "outputs": [
    {
     "data": {
      "text/html": [
       "<div>\n",
       "<style scoped>\n",
       "    .dataframe tbody tr th:only-of-type {\n",
       "        vertical-align: middle;\n",
       "    }\n",
       "\n",
       "    .dataframe tbody tr th {\n",
       "        vertical-align: top;\n",
       "    }\n",
       "\n",
       "    .dataframe thead th {\n",
       "        text-align: right;\n",
       "    }\n",
       "</style>\n",
       "<table border=\"1\" class=\"dataframe\">\n",
       "  <thead>\n",
       "    <tr style=\"text-align: right;\">\n",
       "      <th></th>\n",
       "      <th>State</th>\n",
       "      <th>FIPS</th>\n",
       "      <th>Adult obesity</th>\n",
       "    </tr>\n",
       "  </thead>\n",
       "  <tbody>\n",
       "    <tr>\n",
       "      <th>0</th>\n",
       "      <td>AK</td>\n",
       "      <td>2016</td>\n",
       "      <td>0.300</td>\n",
       "    </tr>\n",
       "    <tr>\n",
       "      <th>1</th>\n",
       "      <td>AK</td>\n",
       "      <td>2016</td>\n",
       "      <td>0.329</td>\n",
       "    </tr>\n",
       "    <tr>\n",
       "      <th>2</th>\n",
       "      <td>AK</td>\n",
       "      <td>2020</td>\n",
       "      <td>0.257</td>\n",
       "    </tr>\n",
       "    <tr>\n",
       "      <th>3</th>\n",
       "      <td>AK</td>\n",
       "      <td>2020</td>\n",
       "      <td>0.268</td>\n",
       "    </tr>\n",
       "    <tr>\n",
       "      <th>4</th>\n",
       "      <td>AK</td>\n",
       "      <td>2050</td>\n",
       "      <td>0.315</td>\n",
       "    </tr>\n",
       "    <tr>\n",
       "      <th>...</th>\n",
       "      <td>...</td>\n",
       "      <td>...</td>\n",
       "      <td>...</td>\n",
       "    </tr>\n",
       "    <tr>\n",
       "      <th>6104</th>\n",
       "      <td>WY</td>\n",
       "      <td>56041</td>\n",
       "      <td>0.293</td>\n",
       "    </tr>\n",
       "    <tr>\n",
       "      <th>6105</th>\n",
       "      <td>WY</td>\n",
       "      <td>56043</td>\n",
       "      <td>0.241</td>\n",
       "    </tr>\n",
       "    <tr>\n",
       "      <th>6106</th>\n",
       "      <td>WY</td>\n",
       "      <td>56043</td>\n",
       "      <td>0.242</td>\n",
       "    </tr>\n",
       "    <tr>\n",
       "      <th>6107</th>\n",
       "      <td>WY</td>\n",
       "      <td>56045</td>\n",
       "      <td>0.313</td>\n",
       "    </tr>\n",
       "    <tr>\n",
       "      <th>6108</th>\n",
       "      <td>WY</td>\n",
       "      <td>56045</td>\n",
       "      <td>0.288</td>\n",
       "    </tr>\n",
       "  </tbody>\n",
       "</table>\n",
       "<p>6109 rows × 3 columns</p>\n",
       "</div>"
      ],
      "text/plain": [
       "     State   FIPS  Adult obesity\n",
       "0       AK   2016          0.300\n",
       "1       AK   2016          0.329\n",
       "2       AK   2020          0.257\n",
       "3       AK   2020          0.268\n",
       "4       AK   2050          0.315\n",
       "...    ...    ...            ...\n",
       "6104    WY  56041          0.293\n",
       "6105    WY  56043          0.241\n",
       "6106    WY  56043          0.242\n",
       "6107    WY  56045          0.313\n",
       "6108    WY  56045          0.288\n",
       "\n",
       "[6109 rows x 3 columns]"
      ]
     },
     "execution_count": 137,
     "metadata": {},
     "output_type": "execute_result"
    }
   ],
   "source": [
    "finaldataset2"
   ]
  },
  {
   "cell_type": "code",
   "execution_count": 148,
   "id": "9672e74e-4d6d-4810-b81b-1675441fd119",
   "metadata": {},
   "outputs": [],
   "source": [
    "finaldataset2=df[[\"State\", \"FIPS\", \"Adult obesity\"]].copy()"
   ]
  },
  {
   "cell_type": "markdown",
   "id": "27dc22ce-db7f-4dbc-9e79-bbd2bba3d9db",
   "metadata": {},
   "source": [
    "Then, you will use the method `.to_csv()`, inserting the filename infront of and in the parentheses. \n",
    "\n",
    "So for example, for your filtered subset you would run: `finaldataset2.to_csv(\"FinalDataSet2.csv\")`"
   ]
  },
  {
   "cell_type": "markdown",
   "id": "68556ede-4746-484f-9645-7e21c132b02c",
   "metadata": {},
   "source": [
    "This will export as a `.csv` file in our working directory.\n",
    "\n",
    "By default, this `.csv` will include the row of indices that pandas created when we read the original file into our notebook using `.read_csv`. To eliminate these, add `index=false` to your statement to tell it not bring in those index numbers.\n",
    "\n",
    "`finaldataset2.to_csv(\"FinalDataSet2.csv\", index=False)`"
   ]
  },
  {
   "cell_type": "code",
   "execution_count": 153,
   "id": "aeb0bdcf-0b69-4717-bfc3-f622c2c4895c",
   "metadata": {},
   "outputs": [],
   "source": [
    "finaldataset2.to_csv(\"FinalDataSet2.csv\", index=False)"
   ]
  },
  {
   "cell_type": "markdown",
   "id": "2ba08a34-8208-48be-a9a3-2098863adc92",
   "metadata": {},
   "source": [
    "The new data subset will appear in your folder and is ready to be used."
   ]
  }
 ],
 "metadata": {
  "kernelspec": {
   "display_name": "Python 3 (ipykernel)",
   "language": "python",
   "name": "python3"
  },
  "language_info": {
   "codemirror_mode": {
    "name": "ipython",
    "version": 3
   },
   "file_extension": ".py",
   "mimetype": "text/x-python",
   "name": "python",
   "nbconvert_exporter": "python",
   "pygments_lexer": "ipython3",
   "version": "3.9.13"
  }
 },
 "nbformat": 4,
 "nbformat_minor": 5
}
